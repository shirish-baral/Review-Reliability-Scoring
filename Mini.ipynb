{
 "cells": [
  {
   "cell_type": "code",
   "execution_count": 15,
   "id": "2af2848c-4375-45fc-9fd5-ee04880dbf55",
   "metadata": {},
   "outputs": [
    {
     "name": "stdout",
     "output_type": "stream",
     "text": [
      "Top 5 Reviewers by Helpfulness Score:\n",
      "+-----+------------------+---------------------+--------------------+\n",
      "|     | Reviewer Name    |   Helpfulness Score |   Normalized Score |\n",
      "+=====+==================+=====================+====================+\n",
      "| 481 | cacalazani       |            489.6171 |             0.1721 |\n",
      "+-----+------------------+---------------------+--------------------+\n",
      "| 411 | J. Peplinski     |            373.2545 |             0.1312 |\n",
      "+-----+------------------+---------------------+--------------------+\n",
      "| 357 | suzatm           |            252.1364 |             0.0886 |\n",
      "+-----+------------------+---------------------+--------------------+\n",
      "| 300 | Alan  Houston    |            221.1082 |             0.0777 |\n",
      "+-----+------------------+---------------------+--------------------+\n",
      "| 352 | Rob \"riverstone\" |            151.5848 |             0.0533 |\n",
      "+-----+------------------+---------------------+--------------------+\n",
      "\n",
      "Top 5 Reviewers by Reliability Score:\n",
      "+----+--------------------------+---------------------+---------------------+---------------------+\n",
      "|    | Reviewer Name            |   Reliability Score |   Top Ranking Score |   Most Recent Score |\n",
      "+====+==========================+=====================+=====================+=====================+\n",
      "|  0 | amazdnu                  |              0.0746 |              0.1472 |              0.0020 |\n",
      "+----+--------------------------+---------------------+---------------------+---------------------+\n",
      "|  1 | Amazon Customer          |              0.0378 |              0.0736 |              0.0020 |\n",
      "+----+--------------------------+---------------------+---------------------+---------------------+\n",
      "|  2 | C. A. Freeman            |              0.0255 |              0.0491 |              0.0020 |\n",
      "+----+--------------------------+---------------------+---------------------+---------------------+\n",
      "|  3 | Dave M. Shaw \"mack dave\" |              0.0194 |              0.0368 |              0.0020 |\n",
      "+----+--------------------------+---------------------+---------------------+---------------------+\n",
      "|  4 | Wayne Smith              |              0.0157 |              0.0294 |              0.0020 |\n",
      "+----+--------------------------+---------------------+---------------------+---------------------+\n"
     ]
    }
   ],
   "source": [
    "import pandas as pd\n",
    "import numpy as np\n",
    "from tabulate import tabulate  # Make sure to install tabulate: pip install tabulate\n",
    "\n",
    "# Load the dataset\n",
    "file_path = \"500ECE.csv\"\n",
    "data = pd.read_csv(file_path)\n",
    "\n",
    "# Calculate helpfulness score (b_ij)\n",
    "def calculate_helpfulness(row):\n",
    "    try:\n",
    "        helpful_votes = row['helpful__001']\n",
    "        total_votes = row['helpful__002']\n",
    "        return (helpful_votes ** 2) / total_votes if total_votes > 0 else 0\n",
    "    except:\n",
    "        return 0\n",
    "\n",
    "data['b_ij'] = data.apply(calculate_helpfulness, axis=1)\n",
    "\n",
    "# Normalize helpfulness scores (h_ij)\n",
    "total_bij = data['b_ij'].sum()\n",
    "data['h_ij'] = data['b_ij'] / total_bij if total_bij > 0 else 0\n",
    "\n",
    "# Calculate reliability scores\n",
    "data['z_ij'] = 1 / np.exp(2)\n",
    "data['most_ij'] = data['z_ij'] / data['z_ij'].sum()\n",
    "data['q_ij'] = (1 / (data.index + 1)) * len(data)\n",
    "data['top_ij'] = data['q_ij'] / data['q_ij'].sum()\n",
    "\n",
    "# Calculate combined reliability score (d_ij)\n",
    "alpha = 0.5\n",
    "data['d_ij'] = alpha * data['top_ij'] + (1 - alpha) * data['most_ij']\n",
    "\n",
    "# Sort reviewers\n",
    "sorted_by_helpfulness = data.sort_values(by=\"b_ij\", ascending=False)\n",
    "sorted_by_reliability = data.sort_values(by=\"d_ij\", ascending=False)\n",
    "\n",
    "# Create formatted tables\n",
    "helpfulness_table = sorted_by_helpfulness[['reviewerName', 'b_ij', 'h_ij']].head()\n",
    "reliability_table = sorted_by_reliability[['reviewerName', 'd_ij', 'top_ij', 'most_ij']].head()\n",
    "\n",
    "# Print tables using tabulate\n",
    "print(\"Top 5 Reviewers by Helpfulness Score:\")\n",
    "print(tabulate(helpfulness_table, headers=['Reviewer Name', 'Helpfulness Score', 'Normalized Score'], \n",
    "              tablefmt='grid', floatfmt='.4f'))\n",
    "\n",
    "print(\"\\nTop 5 Reviewers by Reliability Score:\")\n",
    "print(tabulate(reliability_table, \n",
    "              headers=['Reviewer Name', 'Reliability Score', 'Top Ranking Score', 'Most Recent Score'],\n",
    "              tablefmt='grid', floatfmt='.4f'))\n"
   ]
  },
  {
   "cell_type": "code",
   "execution_count": null,
   "id": "954fc721-75d2-4371-ae4f-7c4723b271b0",
   "metadata": {},
   "outputs": [],
   "source": []
  },
  {
   "cell_type": "code",
   "execution_count": null,
   "id": "c6f64956-c11e-4d7c-a172-9b67005578c8",
   "metadata": {},
   "outputs": [],
   "source": []
  }
 ],
 "metadata": {
  "kernelspec": {
   "display_name": "Python 3 (ipykernel)",
   "language": "python",
   "name": "python3"
  },
  "language_info": {
   "codemirror_mode": {
    "name": "ipython",
    "version": 3
   },
   "file_extension": ".py",
   "mimetype": "text/x-python",
   "name": "python",
   "nbconvert_exporter": "python",
   "pygments_lexer": "ipython3",
   "version": "3.12.7"
  }
 },
 "nbformat": 4,
 "nbformat_minor": 5
}
